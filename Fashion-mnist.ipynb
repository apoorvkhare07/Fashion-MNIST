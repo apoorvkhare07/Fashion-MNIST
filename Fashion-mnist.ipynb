{
 "cells": [
  {
   "cell_type": "markdown",
   "metadata": {},
   "source": [
    "#### Fashion MNIST is a drop-in replacement for the very well known, machine learning hello world, MNIST dataset. It has same number of training and test examples and the images have the same 28x28 size and there are a total of 10 classes/labels, you can read more about the dataset here : Fashion-MNIST\n",
    "\n",
    "#### In this I have tried an custom Neural Network on the above dataset. \n",
    "\n",
    "### Network Structure\n",
    "\n",
    "#### I have designed a two layer Neural Network, First layer will be the input layer having 784 input neurons and relu as the activation function. The second layer having 512 Neurons and activation function as relu and the last layer having 128 neurons and activation as softmax."
   ]
  },
  {
   "cell_type": "code",
   "execution_count": 21,
   "metadata": {},
   "outputs": [],
   "source": [
    "import keras\n",
    "from keras.datasets import mnist\n",
    "from keras.models import Sequential\n",
    "from keras.layers import Dense\n",
    "import matplotlib.pyplot as plt\n",
    "from keras.optimizers import Adam\n",
    "import numpy as np\n",
    "import pandas as pd\n",
    "import os\n",
    "import gzip\n",
    "np.random.seed(12345)\n"
   ]
  },
  {
   "cell_type": "code",
   "execution_count": 6,
   "metadata": {},
   "outputs": [],
   "source": [
    "batch_size = 16"
   ]
  },
  {
   "cell_type": "code",
   "execution_count": 7,
   "metadata": {},
   "outputs": [
    {
     "name": "stdout",
     "output_type": "stream",
     "text": [
      "Downloading data from https://raw.githubusercontent.com/zalandoresearch/fashion-mnist/master/data/fashion/train-images-idx3-ubyte.gz\n",
      "26427392/26421880 [==============================] - 5s 0us/step\n",
      "Downloading data from https://raw.githubusercontent.com/zalandoresearch/fashion-mnist/master/data/fashion/train-labels-idx1-ubyte.gz\n",
      "32768/29515 [=================================] - 0s 8us/step\n",
      "Downloading data from https://raw.githubusercontent.com/zalandoresearch/fashion-mnist/master/data/fashion/t10k-images-idx3-ubyte.gz\n",
      "4423680/4422102 [==============================] - 5s 1us/step\n",
      "Downloading data from https://raw.githubusercontent.com/zalandoresearch/fashion-mnist/master/data/fashion/t10k-labels-idx1-ubyte.gz\n",
      "8192/5148 [===============================================] - 0s 0us/step\n"
     ]
    }
   ],
   "source": [
    "train_images_path = keras.utils.get_file('train-images-idx3-ubyte.gz', 'https://raw.githubusercontent.com/zalandoresearch/fashion-mnist/master/data/fashion/train-images-idx3-ubyte.gz')\n",
    "train_labels_path = keras.utils.get_file('train-labels-idx1-ubyte.gz', 'https://raw.githubusercontent.com/zalandoresearch/fashion-mnist/master/data/fashion/train-labels-idx1-ubyte.gz')\n",
    "test_images_path = keras.utils.get_file('t10k-images-idx3-ubyte.gz', 'https://raw.githubusercontent.com/zalandoresearch/fashion-mnist/master/data/fashion/t10k-images-idx3-ubyte.gz')\n",
    "test_labels_path = keras.utils.get_file('t10k-labels-idx1-ubyte.gz', 'https://raw.githubusercontent.com/zalandoresearch/fashion-mnist/master/data/fashion/t10k-labels-idx1-ubyte.gz')"
   ]
  },
  {
   "cell_type": "code",
   "execution_count": 10,
   "metadata": {},
   "outputs": [],
   "source": [
    "def load_data(images_path, labels_path):\n",
    "\n",
    "    with gzip.open(labels_path, 'rb') as lbpath:\n",
    "        labels = np.frombuffer(lbpath.read(), dtype=np.uint8,\n",
    "                               offset=8)\n",
    "\n",
    "    with gzip.open(images_path, 'rb') as imgpath:\n",
    "        images = np.frombuffer(imgpath.read(), dtype=np.uint8,\n",
    "                               offset=16).reshape(len(labels), 784)\n",
    "\n",
    "    return images, labels"
   ]
  },
  {
   "cell_type": "code",
   "execution_count": 11,
   "metadata": {},
   "outputs": [],
   "source": [
    "X_train, y_train = load_data(train_images_path, train_labels_path)\n",
    "X_test, y_test = load_mnist(test_images_path, test_labels_path)\n",
    "X_train = X_train.astype('float32')\n",
    "X_test = X_test.astype('float32')\n",
    "X_train /= 255\n",
    "X_test /= 255"
   ]
  },
  {
   "cell_type": "code",
   "execution_count": 12,
   "metadata": {},
   "outputs": [
    {
     "name": "stdout",
     "output_type": "stream",
     "text": [
      "(60000, 784)\n",
      "(60000,)\n",
      "(10000, 784)\n",
      "(10000,)\n"
     ]
    }
   ],
   "source": [
    "print(X_train.shape)\n",
    "print(y_train.shape)\n",
    "print(X_test.shape)\n",
    "print(y_test.shape)"
   ]
  },
  {
   "cell_type": "code",
   "execution_count": 15,
   "metadata": {},
   "outputs": [
    {
     "name": "stdout",
     "output_type": "stream",
     "text": [
      "[0.         0.         0.         0.         0.         0.\n",
      " 0.         0.         0.         0.         0.         0.\n",
      " 0.         0.         0.         0.         0.         0.\n",
      " 0.         0.         0.         0.         0.         0.\n",
      " 0.         0.         0.         0.         0.         0.\n",
      " 0.         0.         0.         0.         0.         0.\n",
      " 0.         0.         0.         0.         0.         0.\n",
      " 0.         0.         0.         0.         0.         0.\n",
      " 0.         0.         0.         0.         0.         0.\n",
      " 0.         0.         0.         0.         0.         0.\n",
      " 0.         0.         0.         0.         0.         0.\n",
      " 0.         0.         0.         0.         0.         0.\n",
      " 0.         0.         0.         0.         0.         0.\n",
      " 0.         0.         0.         0.         0.         0.\n",
      " 0.         0.         0.         0.         0.         0.\n",
      " 0.         0.         0.         0.         0.         0.\n",
      " 0.00392157 0.         0.         0.05098039 0.28627452 0.\n",
      " 0.         0.00392157 0.01568628 0.         0.         0.\n",
      " 0.         0.00392157 0.00392157 0.         0.         0.\n",
      " 0.         0.         0.         0.         0.         0.\n",
      " 0.         0.         0.         0.         0.01176471 0.\n",
      " 0.14117648 0.53333336 0.49803922 0.24313726 0.21176471 0.\n",
      " 0.         0.         0.00392157 0.01176471 0.01568628 0.\n",
      " 0.         0.01176471 0.         0.         0.         0.\n",
      " 0.         0.         0.         0.         0.         0.\n",
      " 0.         0.         0.02352941 0.         0.4        0.8\n",
      " 0.6901961  0.5254902  0.5647059  0.48235294 0.09019608 0.\n",
      " 0.         0.         0.         0.04705882 0.03921569 0.\n",
      " 0.         0.         0.         0.         0.         0.\n",
      " 0.         0.         0.         0.         0.         0.\n",
      " 0.         0.         0.60784316 0.9254902  0.8117647  0.69803923\n",
      " 0.41960785 0.6117647  0.6313726  0.42745098 0.2509804  0.09019608\n",
      " 0.3019608  0.50980395 0.28235295 0.05882353 0.         0.\n",
      " 0.         0.         0.         0.         0.         0.\n",
      " 0.         0.         0.         0.00392157 0.         0.27058825\n",
      " 0.8117647  0.8745098  0.85490197 0.84705883 0.84705883 0.6392157\n",
      " 0.49803922 0.4745098  0.47843137 0.57254905 0.5529412  0.34509805\n",
      " 0.6745098  0.25882354 0.         0.         0.         0.\n",
      " 0.         0.         0.         0.         0.         0.00392157\n",
      " 0.00392157 0.00392157 0.         0.78431374 0.9098039  0.9098039\n",
      " 0.9137255  0.8980392  0.8745098  0.8745098  0.84313726 0.8352941\n",
      " 0.6431373  0.49803922 0.48235294 0.76862746 0.8980392  0.\n",
      " 0.         0.         0.         0.         0.         0.\n",
      " 0.         0.         0.         0.         0.         0.\n",
      " 0.         0.7176471  0.88235295 0.84705883 0.8745098  0.89411765\n",
      " 0.92156863 0.8901961  0.8784314  0.87058824 0.8784314  0.8666667\n",
      " 0.8745098  0.9607843  0.6784314  0.         0.         0.\n",
      " 0.         0.         0.         0.         0.         0.\n",
      " 0.         0.         0.         0.         0.         0.75686276\n",
      " 0.89411765 0.85490197 0.8352941  0.7764706  0.7058824  0.83137256\n",
      " 0.8235294  0.827451   0.8352941  0.8745098  0.8627451  0.9529412\n",
      " 0.7921569  0.         0.         0.         0.         0.\n",
      " 0.         0.         0.         0.         0.         0.00392157\n",
      " 0.01176471 0.         0.04705882 0.85882354 0.8627451  0.83137256\n",
      " 0.85490197 0.7529412  0.6627451  0.8901961  0.8156863  0.85490197\n",
      " 0.8784314  0.83137256 0.8862745  0.77254903 0.81960785 0.20392157\n",
      " 0.         0.         0.         0.         0.         0.\n",
      " 0.         0.         0.         0.         0.02352941 0.\n",
      " 0.3882353  0.95686275 0.87058824 0.8627451  0.85490197 0.79607844\n",
      " 0.7764706  0.8666667  0.84313726 0.8352941  0.87058824 0.8627451\n",
      " 0.9607843  0.46666667 0.654902   0.21960784 0.         0.\n",
      " 0.         0.         0.         0.         0.         0.\n",
      " 0.         0.01568628 0.         0.         0.21568628 0.9254902\n",
      " 0.89411765 0.9019608  0.89411765 0.9411765  0.9098039  0.8352941\n",
      " 0.85490197 0.8745098  0.91764706 0.8509804  0.8509804  0.81960785\n",
      " 0.36078432 0.         0.         0.         0.00392157 0.01568628\n",
      " 0.02352941 0.02745098 0.00784314 0.         0.         0.\n",
      " 0.         0.         0.92941177 0.8862745  0.8509804  0.8745098\n",
      " 0.87058824 0.85882354 0.87058824 0.8666667  0.84705883 0.8745098\n",
      " 0.8980392  0.84313726 0.85490197 1.         0.3019608  0.\n",
      " 0.         0.01176471 0.         0.         0.         0.\n",
      " 0.         0.         0.         0.24313726 0.5686275  0.8\n",
      " 0.89411765 0.8117647  0.8352941  0.8666667  0.85490197 0.8156863\n",
      " 0.827451   0.85490197 0.8784314  0.8745098  0.85882354 0.84313726\n",
      " 0.8784314  0.95686275 0.62352943 0.         0.         0.\n",
      " 0.         0.         0.07058824 0.17254902 0.32156864 0.41960785\n",
      " 0.7411765  0.89411765 0.8627451  0.87058824 0.8509804  0.8862745\n",
      " 0.78431374 0.8039216  0.827451   0.9019608  0.8784314  0.91764706\n",
      " 0.6901961  0.7372549  0.98039216 0.972549   0.9137255  0.93333334\n",
      " 0.84313726 0.         0.         0.22352941 0.73333335 0.8156863\n",
      " 0.8784314  0.8666667  0.8784314  0.8156863  0.8        0.8392157\n",
      " 0.8156863  0.81960785 0.78431374 0.62352943 0.9607843  0.75686276\n",
      " 0.80784315 0.8745098  1.         1.         0.8666667  0.91764706\n",
      " 0.8666667  0.827451   0.8627451  0.9098039  0.9647059  0.\n",
      " 0.01176471 0.7921569  0.89411765 0.8784314  0.8666667  0.827451\n",
      " 0.827451   0.8392157  0.8039216  0.8039216  0.8039216  0.8627451\n",
      " 0.9411765  0.3137255  0.5882353  1.         0.8980392  0.8666667\n",
      " 0.7372549  0.6039216  0.7490196  0.8235294  0.8        0.81960785\n",
      " 0.87058824 0.89411765 0.88235295 0.         0.38431373 0.9137255\n",
      " 0.7764706  0.8235294  0.87058824 0.8980392  0.8980392  0.91764706\n",
      " 0.9764706  0.8627451  0.7607843  0.84313726 0.8509804  0.94509804\n",
      " 0.25490198 0.28627452 0.41568628 0.45882353 0.65882355 0.85882354\n",
      " 0.8666667  0.84313726 0.8509804  0.8745098  0.8745098  0.8784314\n",
      " 0.8980392  0.11372549 0.29411766 0.8        0.83137256 0.8\n",
      " 0.75686276 0.8039216  0.827451   0.88235295 0.84705883 0.7254902\n",
      " 0.77254903 0.80784315 0.7764706  0.8352941  0.9411765  0.7647059\n",
      " 0.8901961  0.9607843  0.9372549  0.8745098  0.85490197 0.83137256\n",
      " 0.81960785 0.87058824 0.8627451  0.8666667  0.9019608  0.2627451\n",
      " 0.1882353  0.79607844 0.7176471  0.7607843  0.8352941  0.77254903\n",
      " 0.7254902  0.74509805 0.7607843  0.7529412  0.7921569  0.8392157\n",
      " 0.85882354 0.8666667  0.8627451  0.9254902  0.88235295 0.84705883\n",
      " 0.78039217 0.80784315 0.7294118  0.70980394 0.69411767 0.6745098\n",
      " 0.70980394 0.8039216  0.80784315 0.4509804  0.         0.47843137\n",
      " 0.85882354 0.75686276 0.7019608  0.67058825 0.7176471  0.76862746\n",
      " 0.8        0.8235294  0.8352941  0.8117647  0.827451   0.8235294\n",
      " 0.78431374 0.76862746 0.7607843  0.7490196  0.7647059  0.7490196\n",
      " 0.7764706  0.7529412  0.6901961  0.6117647  0.654902   0.69411767\n",
      " 0.8235294  0.36078432 0.         0.         0.2901961  0.7411765\n",
      " 0.83137256 0.7490196  0.6862745  0.6745098  0.6862745  0.70980394\n",
      " 0.7254902  0.7372549  0.7411765  0.7372549  0.75686276 0.7764706\n",
      " 0.8        0.81960785 0.8235294  0.8235294  0.827451   0.7372549\n",
      " 0.7372549  0.7607843  0.7529412  0.84705883 0.6666667  0.\n",
      " 0.00784314 0.         0.         0.         0.25882354 0.78431374\n",
      " 0.87058824 0.92941177 0.9372549  0.9490196  0.9647059  0.9529412\n",
      " 0.95686275 0.8666667  0.8627451  0.75686276 0.7490196  0.7019608\n",
      " 0.7137255  0.7137255  0.70980394 0.6901961  0.6509804  0.65882355\n",
      " 0.3882353  0.22745098 0.         0.         0.         0.\n",
      " 0.         0.         0.         0.         0.         0.15686275\n",
      " 0.23921569 0.17254902 0.28235295 0.16078432 0.13725491 0.\n",
      " 0.         0.         0.         0.         0.         0.\n",
      " 0.         0.         0.         0.         0.         0.\n",
      " 0.         0.         0.         0.         0.         0.\n",
      " 0.         0.         0.         0.         0.         0.\n",
      " 0.         0.         0.         0.         0.         0.\n",
      " 0.         0.         0.         0.         0.         0.\n",
      " 0.         0.         0.         0.         0.         0.\n",
      " 0.         0.         0.         0.         0.         0.\n",
      " 0.         0.         0.         0.         0.         0.\n",
      " 0.         0.         0.         0.         0.         0.\n",
      " 0.         0.         0.         0.         0.         0.\n",
      " 0.         0.         0.         0.        ]\n"
     ]
    }
   ],
   "source": [
    "print (X_train[0, :])"
   ]
  },
  {
   "cell_type": "code",
   "execution_count": 16,
   "metadata": {},
   "outputs": [
    {
     "data": {
      "text/plain": [
       "<matplotlib.image.AxesImage at 0x7f9dc410cfd0>"
      ]
     },
     "execution_count": 16,
     "metadata": {},
     "output_type": "execute_result"
    },
    {
     "data": {
      "image/png": "[encoded data removed]",
      "text/plain": [
       "<matplotlib.figure.Figure at 0x7f9dc6bbc0b8>"
      ]
     },
     "metadata": {},
     "output_type": "display_data"
    }
   ],
   "source": [
    "plt.imshow(X_train[0, :].reshape((28, 28)))"
   ]
  },
  {
   "cell_type": "code",
   "execution_count": 22,
   "metadata": {},
   "outputs": [],
   "source": [
    "model.compile(optimizer=Adam(lr=0.001),\n",
    "              loss='sparse_categorical_crossentropy',\n",
    "              metrics=['accuracy'])"
   ]
  },
  {
   "cell_type": "code",
   "execution_count": 23,
   "metadata": {},
   "outputs": [
    {
     "name": "stdout",
     "output_type": "stream",
     "text": [
      "Epoch 1/20\n",
      "60000/60000 [==============================] - 19s 318us/step - loss: 0.4755 - acc: 0.8272\n",
      "Epoch 2/20\n",
      "60000/60000 [==============================] - 19s 320us/step - loss: 0.3579 - acc: 0.8680\n",
      "Epoch 3/20\n",
      "60000/60000 [==============================] - 20s 339us/step - loss: 0.3255 - acc: 0.8788\n",
      "Epoch 4/20\n",
      "60000/60000 [==============================] - 19s 317us/step - loss: 0.3015 - acc: 0.8871\n",
      "Epoch 5/20\n",
      "60000/60000 [==============================] - 19s 311us/step - loss: 0.2848 - acc: 0.8921\n",
      "Epoch 6/20\n",
      "60000/60000 [==============================] - 19s 310us/step - loss: 0.2714 - acc: 0.8978\n",
      "Epoch 7/20\n",
      "60000/60000 [==============================] - 19s 310us/step - loss: 0.2598 - acc: 0.9023\n",
      "Epoch 8/20\n",
      "60000/60000 [==============================] - 19s 310us/step - loss: 0.2512 - acc: 0.9057\n",
      "Epoch 9/20\n",
      "60000/60000 [==============================] - 19s 310us/step - loss: 0.2393 - acc: 0.9086\n",
      "Epoch 10/20\n",
      "60000/60000 [==============================] - 19s 311us/step - loss: 0.2323 - acc: 0.9118\n",
      "Epoch 11/20\n",
      "60000/60000 [==============================] - 20s 325us/step - loss: 0.2243 - acc: 0.9139\n",
      "Epoch 12/20\n",
      "60000/60000 [==============================] - 22s 360us/step - loss: 0.2156 - acc: 0.9173\n",
      "Epoch 13/20\n",
      "60000/60000 [==============================] - 22s 370us/step - loss: 0.2118 - acc: 0.9186\n",
      "Epoch 14/20\n",
      "60000/60000 [==============================] - 22s 373us/step - loss: 0.2058 - acc: 0.9223\n",
      "Epoch 15/20\n",
      "60000/60000 [==============================] - 23s 378us/step - loss: 0.2002 - acc: 0.9239\n",
      "Epoch 16/20\n",
      "60000/60000 [==============================] - 23s 380us/step - loss: 0.1959 - acc: 0.9251\n",
      "Epoch 17/20\n",
      "60000/60000 [==============================] - 23s 384us/step - loss: 0.1893 - acc: 0.9284\n",
      "Epoch 18/20\n",
      "60000/60000 [==============================] - 23s 382us/step - loss: 0.1870 - acc: 0.9291\n",
      "Epoch 19/20\n",
      "60000/60000 [==============================] - 23s 385us/step - loss: 0.1816 - acc: 0.9316\n",
      "Epoch 20/20\n",
      "60000/60000 [==============================] - 23s 383us/step - loss: 0.1758 - acc: 0.9334\n"
     ]
    },
    {
     "data": {
      "text/plain": [
       "<keras.callbacks.History at 0x7f9dc63309b0>"
      ]
     },
     "execution_count": 23,
     "metadata": {},
     "output_type": "execute_result"
    }
   ],
   "source": [
    "model.fit(X_train, y_train,\n",
    "                    batch_size=batch_size,\n",
    "                    epochs=20,\n",
    "                    verbose=1)"
   ]
  },
  {
   "cell_type": "code",
   "execution_count": 24,
   "metadata": {},
   "outputs": [
    {
     "name": "stdout",
     "output_type": "stream",
     "text": [
      "Test loss: 0.3539742024064064\n",
      "Test accuracy: 0.8924\n"
     ]
    }
   ],
   "source": [
    "score = model.evaluate(X_test, y_test, verbose=0)\n",
    "print('Test loss:', score[0])\n",
    "print('Test accuracy:', score[1])"
   ]
  },
  {
   "cell_type": "code",
   "execution_count": null,
   "metadata": {},
   "outputs": [],
   "source": []
  }
 ],
 "metadata": {
  "kernelspec": {
   "display_name": "Python 3",
   "language": "python",
   "name": "python3"
  },
  "language_info": {
   "codemirror_mode": {
    "name": "ipython",
    "version": 3
   },
   "file_extension": ".py",
   "mimetype": "text/x-python",
   "name": "python",
   "nbconvert_exporter": "python",
   "pygments_lexer": "ipython3",
   "version": "3.6.4"
  }
 },
 "nbformat": 4,
 "nbformat_minor": 2
}
