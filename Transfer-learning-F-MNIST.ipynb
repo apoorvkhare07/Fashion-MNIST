{
 "cells": [
  {
   "cell_type": "code",
   "execution_count": 1,
   "metadata": {},
   "outputs": [
    {
     "name": "stderr",
     "output_type": "stream",
     "text": [
      "Using TensorFlow backend.\n"
     ]
    }
   ],
   "source": [
    "import keras\n",
    "from keras.datasets import mnist\n",
    "from keras.models import Sequential \n",
    "from keras.layers import Dense, Activation\n",
    "from keras.layers.convolutional import Convolution2D\n",
    "from keras.layers.pooling import MaxPooling2D\n",
    "from keras.layers import  Dropout, Flatten\n",
    "import matplotlib.pyplot as plt\n",
    "from keras.optimizers import Adam\n",
    "import numpy as np\n",
    "import pandas as pd\n",
    "import os\n",
    "import gzip\n",
    "import struct\n",
    "\n",
    "np.random.seed(12345)\n"
   ]
  },
  {
   "cell_type": "code",
   "execution_count": 2,
   "metadata": {},
   "outputs": [],
   "source": [
    "batch_size = 16"
   ]
  },
  {
   "cell_type": "code",
   "execution_count": 4,
   "metadata": {},
   "outputs": [],
   "source": [
    "train_mnist = 'train-images_mnist.idx3-ubyte'\n",
    "train_fmnist = 'train-images_fashion-idx3-ubyte'\n",
    "train_mnist_label = 'train-labels_mnist.idx1-ubyte'\n",
    "train_fmnist_label = 'train-labels_fashion-idx1-ubyte'"
   ]
  },
  {
   "cell_type": "code",
   "execution_count": 5,
   "metadata": {},
   "outputs": [
    {
     "ename": "FileNotFoundError",
     "evalue": "[Errno 2] No such file or directory: 'train-labels_mnist.idx1-ubyte'",
     "output_type": "error",
     "traceback": [
      "\u001b[0;31m---------------------------------------------------------------------------\u001b[0m",
      "\u001b[0;31mFileNotFoundError\u001b[0m                         Traceback (most recent call last)",
      "\u001b[0;32m<ipython-input-5-504d82c8ae98>\u001b[0m in \u001b[0;36m<module>\u001b[0;34m()\u001b[0m\n\u001b[0;32m----> 1\u001b[0;31m \u001b[0;32mwith\u001b[0m \u001b[0mopen\u001b[0m\u001b[0;34m(\u001b[0m\u001b[0mtrain_mnist_label\u001b[0m\u001b[0;34m,\u001b[0m \u001b[0;34m'rb'\u001b[0m\u001b[0;34m)\u001b[0m \u001b[0;32mas\u001b[0m \u001b[0mflbl\u001b[0m\u001b[0;34m:\u001b[0m\u001b[0;34m\u001b[0m\u001b[0m\n\u001b[0m\u001b[1;32m      2\u001b[0m     \u001b[0mmagic\u001b[0m\u001b[0;34m,\u001b[0m \u001b[0mnum\u001b[0m \u001b[0;34m=\u001b[0m \u001b[0mstruct\u001b[0m\u001b[0;34m.\u001b[0m\u001b[0munpack\u001b[0m\u001b[0;34m(\u001b[0m\u001b[0;34m\">II\"\u001b[0m\u001b[0;34m,\u001b[0m \u001b[0mflbl\u001b[0m\u001b[0;34m.\u001b[0m\u001b[0mread\u001b[0m\u001b[0;34m(\u001b[0m\u001b[0;36m8\u001b[0m\u001b[0;34m)\u001b[0m\u001b[0;34m)\u001b[0m\u001b[0;34m\u001b[0m\u001b[0m\n\u001b[1;32m      3\u001b[0m     \u001b[0mlbl\u001b[0m \u001b[0;34m=\u001b[0m \u001b[0mnp\u001b[0m\u001b[0;34m.\u001b[0m\u001b[0mfromfile\u001b[0m\u001b[0;34m(\u001b[0m\u001b[0mflbl\u001b[0m\u001b[0;34m,\u001b[0m \u001b[0mdtype\u001b[0m\u001b[0;34m=\u001b[0m\u001b[0mnp\u001b[0m\u001b[0;34m.\u001b[0m\u001b[0mint8\u001b[0m\u001b[0;34m)\u001b[0m\u001b[0;34m\u001b[0m\u001b[0m\n\u001b[1;32m      4\u001b[0m \u001b[0;34m\u001b[0m\u001b[0m\n\u001b[1;32m      5\u001b[0m \u001b[0;32mwith\u001b[0m \u001b[0mopen\u001b[0m\u001b[0;34m(\u001b[0m\u001b[0mtrain_mnist\u001b[0m\u001b[0;34m,\u001b[0m \u001b[0;34m'rb'\u001b[0m\u001b[0;34m)\u001b[0m \u001b[0;32mas\u001b[0m \u001b[0mfimg\u001b[0m\u001b[0;34m:\u001b[0m\u001b[0;34m\u001b[0m\u001b[0m\n",
      "\u001b[0;31mFileNotFoundError\u001b[0m: [Errno 2] No such file or directory: 'train-labels_mnist.idx1-ubyte'"
     ]
    }
   ],
   "source": [
    "with open(train_mnist_label, 'rb') as flbl:\n",
    "    magic, num = struct.unpack(\">II\", flbl.read(8))\n",
    "    lbl = np.fromfile(flbl, dtype=np.int8)\n",
    "\n",
    "with open(train_mnist, 'rb') as fimg:\n",
    "    magic, num, rows, cols = struct.unpack(\">IIII\", fimg.read(16))\n",
    "    img = np.fromfile(fimg, dtype=np.uint8).reshape(len(lbl), rows, cols)"
   ]
  },
  {
   "cell_type": "code",
   "execution_count": 6,
   "metadata": {},
   "outputs": [
    {
     "name": "stdout",
     "output_type": "stream",
     "text": [
      "(60000, 10)\n",
      "(60000, 28, 28)\n"
     ]
    }
   ],
   "source": [
    "train_y  = keras.utils.np_utils.to_categorical(lbl ,  10  )\n",
    "train_x = np.asarray(img)\n",
    "train_y = np.asarray(train_y) \n",
    "print (train_y.shape)\n",
    "print (train_x.shape)"
   ]
  },
  {
   "cell_type": "code",
   "execution_count": 7,
   "metadata": {},
   "outputs": [],
   "source": [
    "train_x = np.reshape(train_x , [60000,28,28,1])"
   ]
  },
  {
   "cell_type": "code",
   "execution_count": 9,
   "metadata": {},
   "outputs": [],
   "source": [
    "def getModel():\n",
    "    model = Sequential()\n",
    "    model.reset_states() \n",
    "\n",
    "\n",
    "    model.add(Convolution2D(64, (3, 3) ,  input_shape = ( 26, 26, 64) , name = \"con1\") ) \n",
    "    model.add(Activation('relu' , name = \"act1\"))\n",
    "    model.add(MaxPooling2D(pool_size=(2, 2), name = \"pool1\") )\n",
    "\n",
    "    model.add(Convolution2D(32, (3, 3), name = \"con2\"))\n",
    "    model.add(Activation('relu', name = \"act2\" ))\n",
    "    model.add(MaxPooling2D(pool_size=(2, 2), name = \"pool2\"))\n",
    "\n",
    "    model.add(Flatten())\n",
    "    model.add(Dense(10))\n",
    "    model.add(Activation('softmax'))\n",
    "    return model"
   ]
  },
  {
   "cell_type": "code",
   "execution_count": 10,
   "metadata": {},
   "outputs": [
    {
     "name": "stdout",
     "output_type": "stream",
     "text": [
      "_________________________________________________________________\n",
      "Layer (type)                 Output Shape              Param #   \n",
      "=================================================================\n",
      "con1 (Conv2D)                (None, 24, 24, 64)        36928     \n",
      "_________________________________________________________________\n",
      "act1 (Activation)            (None, 24, 24, 64)        0         \n",
      "_________________________________________________________________\n",
      "pool1 (MaxPooling2D)         (None, 12, 12, 64)        0         \n",
      "_________________________________________________________________\n",
      "con2 (Conv2D)                (None, 10, 10, 32)        18464     \n",
      "_________________________________________________________________\n",
      "act2 (Activation)            (None, 10, 10, 32)        0         \n",
      "_________________________________________________________________\n",
      "pool2 (MaxPooling2D)         (None, 5, 5, 32)          0         \n",
      "_________________________________________________________________\n",
      "flatten_2 (Flatten)          (None, 800)               0         \n",
      "_________________________________________________________________\n",
      "dense_2 (Dense)              (None, 10)                8010      \n",
      "_________________________________________________________________\n",
      "activation_2 (Activation)    (None, 10)                0         \n",
      "=================================================================\n",
      "Total params: 63,402\n",
      "Trainable params: 63,402\n",
      "Non-trainable params: 0\n",
      "_________________________________________________________________\n"
     ]
    }
   ],
   "source": [
    "model = getModel()\n",
    "model.summary()"
   ]
  },
  {
   "cell_type": "code",
   "execution_count": 10,
   "metadata": {},
   "outputs": [],
   "source": [
    "opt = keras.optimizers.rmsprop(lr=0.0001, decay=1e-6)\n",
    "model.compile(loss='categorical_crossentropy', optimizer=opt,  metrics=['accuracy'])"
   ]
  },
  {
   "cell_type": "code",
   "execution_count": 11,
   "metadata": {},
   "outputs": [
    {
     "name": "stdout",
     "output_type": "stream",
     "text": [
      "Epoch 1/10\n",
      "60000/60000 [==============================] - 32s 525us/step - loss: 2.0737 - acc: 0.8105\n",
      "Epoch 2/10\n",
      "60000/60000 [==============================] - 32s 526us/step - loss: 0.1825 - acc: 0.9575\n",
      "Epoch 3/10\n",
      "60000/60000 [==============================] - 32s 530us/step - loss: 0.1137 - acc: 0.9718\n",
      "Epoch 4/10\n",
      "60000/60000 [==============================] - 36s 603us/step - loss: 0.0829 - acc: 0.9787\n",
      "Epoch 5/10\n",
      "60000/60000 [==============================] - 36s 606us/step - loss: 0.0667 - acc: 0.9825\n",
      "Epoch 6/10\n",
      "60000/60000 [==============================] - 35s 582us/step - loss: 0.0566 - acc: 0.9853\n",
      "Epoch 7/10\n",
      "60000/60000 [==============================] - 34s 565us/step - loss: 0.0483 - acc: 0.9871\n",
      "Epoch 8/10\n",
      "60000/60000 [==============================] - 35s 584us/step - loss: 0.0430 - acc: 0.9889\n",
      "Epoch 9/10\n",
      "60000/60000 [==============================] - 37s 610us/step - loss: 0.0392 - acc: 0.9897\n",
      "Epoch 10/10\n",
      "60000/60000 [==============================] - 35s 589us/step - loss: 0.0357 - acc: 0.9907\n"
     ]
    },
    {
     "data": {
      "text/plain": [
       "<keras.callbacks.History at 0x7fc2d09bb080>"
      ]
     },
     "execution_count": 11,
     "metadata": {},
     "output_type": "execute_result"
    }
   ],
   "source": [
    "model.fit( train_x , train_y  , batch_size= batch_size ,   epochs = 10,  shuffle=True)"
   ]
  },
  {
   "cell_type": "code",
   "execution_count": 16,
   "metadata": {},
   "outputs": [],
   "source": [
    "model.save_weights(\"model_weights.h5\")"
   ]
  },
  {
   "cell_type": "code",
   "execution_count": 20,
   "metadata": {},
   "outputs": [],
   "source": [
    "with open(train_fmnist_label , 'rb') as flbl:\n",
    "    magic, num = struct.unpack(\">II\", flbl.read(8))\n",
    "    fashion_lbl = np.fromfile(flbl, dtype=np.int8)\n",
    "\n",
    "with open(train_fmnist, 'rb') as fimg:\n",
    "    magic, num, rows, cols = struct.unpack(\">IIII\", fimg.read(16))\n",
    "    fashion_img = np.fromfile(fimg, dtype=np.uint8).reshape(len(lbl), rows, cols)\n",
    "    \n",
    "inds = fashion_lbl.argsort()\n",
    "\n",
    "fashion_img= fashion_img[inds]\n",
    "fashion_lbl= fashion_lbl[inds]"
   ]
  },
  {
   "cell_type": "code",
   "execution_count": 24,
   "metadata": {},
   "outputs": [
    {
     "name": "stdout",
     "output_type": "stream",
     "text": [
      "(60000, 10)\n",
      "(60000, 28, 28)\n"
     ]
    }
   ],
   "source": [
    "train_y  = keras.utils.np_utils.to_categorical(fashion_lbl ,  10  )\n",
    "train_x = np.asarray(fashion_img)\n",
    "train_y = np.asarray(train_y) \n",
    "print (train_y.shape)\n",
    "print (train_x.shape)"
   ]
  },
  {
   "cell_type": "code",
   "execution_count": 36,
   "metadata": {},
   "outputs": [
    {
     "data": {
      "image/png": "[encoded data removed]",
      "text/plain": [
       "<matplotlib.figure.Figure at 0x7fc26e62ae10>"
      ]
     },
     "metadata": {},
     "output_type": "display_data"
    }
   ],
   "source": [
    "plt.imshow(train_x[0, :].reshape((28, 28)))\n",
    "train_x = np.reshape(train_x , [60000,28,28,1])"
   ]
  },
  {
   "cell_type": "code",
   "execution_count": 43,
   "metadata": {},
   "outputs": [
    {
     "name": "stdout",
     "output_type": "stream",
     "text": [
      "Epoch 1/20\n",
      "60000/60000 [==============================] - 15s 242us/step - loss: 4.5797 - acc: 0.6111\n",
      "Epoch 2/20\n",
      "60000/60000 [==============================] - 14s 241us/step - loss: 2.5539 - acc: 0.7407\n",
      "Epoch 3/20\n",
      "60000/60000 [==============================] - 14s 240us/step - loss: 2.2834 - acc: 0.7612\n",
      "Epoch 4/20\n",
      "60000/60000 [==============================] - 22s 371us/step - loss: 1.7018 - acc: 0.7998\n",
      "Epoch 5/20\n",
      "60000/60000 [==============================] - 18s 304us/step - loss: 0.4604 - acc: 0.8814\n",
      "Epoch 6/20\n",
      "60000/60000 [==============================] - 15s 252us/step - loss: 0.3925 - acc: 0.8884\n",
      "Epoch 7/20\n",
      "60000/60000 [==============================] - 17s 285us/step - loss: 0.3506 - acc: 0.8958\n",
      "Epoch 8/20\n",
      "60000/60000 [==============================] - 17s 288us/step - loss: 0.3210 - acc: 0.9008\n",
      "Epoch 9/20\n",
      "60000/60000 [==============================] - 18s 292us/step - loss: 0.3029 - acc: 0.9046\n",
      "Epoch 10/20\n",
      "60000/60000 [==============================] - 17s 288us/step - loss: 0.2846 - acc: 0.9091\n",
      "Epoch 11/20\n",
      "60000/60000 [==============================] - 17s 290us/step - loss: 0.2726 - acc: 0.9121\n",
      "Epoch 12/20\n",
      "60000/60000 [==============================] - 17s 290us/step - loss: 0.2614 - acc: 0.9149\n",
      "Epoch 13/20\n",
      "60000/60000 [==============================] - 17s 289us/step - loss: 0.2542 - acc: 0.9169\n",
      "Epoch 14/20\n",
      "60000/60000 [==============================] - 17s 288us/step - loss: 0.2478 - acc: 0.9187\n",
      "Epoch 15/20\n",
      "60000/60000 [==============================] - 17s 290us/step - loss: 0.2404 - acc: 0.9206\n",
      "Epoch 16/20\n",
      "60000/60000 [==============================] - 18s 305us/step - loss: 0.2370 - acc: 0.9217\n",
      "Epoch 17/20\n",
      "60000/60000 [==============================] - 18s 306us/step - loss: 0.2325 - acc: 0.9232\n",
      "Epoch 18/20\n",
      "60000/60000 [==============================] - 18s 298us/step - loss: 0.2294 - acc: 0.9251\n",
      "Epoch 19/20\n",
      "60000/60000 [==============================] - 21s 346us/step - loss: 0.2266 - acc: 0.9258\n",
      "Epoch 20/20\n",
      "60000/60000 [==============================] - 19s 320us/step - loss: 0.2218 - acc: 0.9264\n"
     ]
    }
   ],
   "source": [
    "fashion_model = Sequential()\n",
    "fashion_model.reset_states() \n",
    "\n",
    "fashion_model.add(Convolution2D( 64  , (3, 3) , input_shape = train_x[0].shape))  \n",
    "fashion_model.add(Activation('relu'))\n",
    "fashion_model.add(MaxPooling2D(pool_size=(3, 3)))\n",
    "\n",
    "fashion_model.add(Flatten())\n",
    "fashion_model.add(Dense(10))\n",
    "fashion_model.add(Activation('softmax'))\n",
    "\n",
    "opt = keras.optimizers.rmsprop(lr=0.0001, decay=1e-6)\n",
    "fashion_model.reset_states( )\n",
    "\n",
    "fashion_model.load_weights(\"model_weights.h5\",by_name=True)\n",
    "\n",
    "fashion_model.compile(loss='categorical_crossentropy', optimizer=opt,  metrics=['accuracy'])\n",
    "fashion_history = fashion_model.fit( train_x , train_y , batch_size= 32, epochs = 20, shuffle=True)"
   ]
  },
  {
   "cell_type": "code",
   "execution_count": 11,
   "metadata": {},
   "outputs": [],
   "source": []
  },
  {
   "cell_type": "code",
   "execution_count": 23,
   "metadata": {},
   "outputs": [],
   "source": [
    "def getModel():\n",
    "    model = Sequential()\n",
    "    model.reset_states() \n",
    "\n",
    "\n",
    "    model.add(Convolution2D(64, (3, 3) ,  input_shape = ( 26, 26, 64) , name = \"con1\") ) \n",
    "    model.add(Activation('relu' , name = \"act1\"))\n",
    "    model.add(MaxPooling2D(pool_size=(2, 2), name = \"pool1\") )\n",
    "\n",
    "    model.add(Convolution2D(32, (3, 3), name = \"con2\"))\n",
    "    model.add(Activation('relu', name = \"act2\" ))\n",
    "    model.add(MaxPooling2D(pool_size=(2, 2), name = \"pool2\"))\n",
    "\n",
    "    model.add(Flatten())\n",
    "    model.add(Dense(10))\n",
    "    model.add(Activation('softmax'))\n",
    "    return model"
   ]
  },
  {
   "cell_type": "code",
   "execution_count": 24,
   "metadata": {},
   "outputs": [],
   "source": [
    "fashion_model = getModel()"
   ]
  },
  {
   "cell_type": "code",
   "execution_count": 25,
   "metadata": {},
   "outputs": [
    {
     "name": "stdout",
     "output_type": "stream",
     "text": [
      "_________________________________________________________________\n",
      "Layer (type)                 Output Shape              Param #   \n",
      "=================================================================\n",
      "con1 (Conv2D)                (None, 24, 24, 64)        36928     \n",
      "_________________________________________________________________\n",
      "act1 (Activation)            (None, 24, 24, 64)        0         \n",
      "_________________________________________________________________\n",
      "pool1 (MaxPooling2D)         (None, 12, 12, 64)        0         \n",
      "_________________________________________________________________\n",
      "con2 (Conv2D)                (None, 10, 10, 32)        18464     \n",
      "_________________________________________________________________\n",
      "act2 (Activation)            (None, 10, 10, 32)        0         \n",
      "_________________________________________________________________\n",
      "pool2 (MaxPooling2D)         (None, 5, 5, 32)          0         \n",
      "_________________________________________________________________\n",
      "flatten_4 (Flatten)          (None, 800)               0         \n",
      "_________________________________________________________________\n",
      "dense_4 (Dense)              (None, 10)                8010      \n",
      "_________________________________________________________________\n",
      "activation_4 (Activation)    (None, 10)                0         \n",
      "=================================================================\n",
      "Total params: 63,402\n",
      "Trainable params: 63,402\n",
      "Non-trainable params: 0\n",
      "_________________________________________________________________\n"
     ]
    }
   ],
   "source": [
    "fashion_model.summary()"
   ]
  },
  {
   "cell_type": "code",
   "execution_count": 26,
   "metadata": {},
   "outputs": [],
   "source": [
    "for layer in fashion_model.layers:\n",
    "    if 'con' in layer.name:\n",
    "        layer.trainable = False"
   ]
  },
  {
   "cell_type": "code",
   "execution_count": 27,
   "metadata": {},
   "outputs": [
    {
     "name": "stdout",
     "output_type": "stream",
     "text": [
      "_________________________________________________________________\n",
      "Layer (type)                 Output Shape              Param #   \n",
      "=================================================================\n",
      "con1 (Conv2D)                (None, 24, 24, 64)        36928     \n",
      "_________________________________________________________________\n",
      "act1 (Activation)            (None, 24, 24, 64)        0         \n",
      "_________________________________________________________________\n",
      "pool1 (MaxPooling2D)         (None, 12, 12, 64)        0         \n",
      "_________________________________________________________________\n",
      "con2 (Conv2D)                (None, 10, 10, 32)        18464     \n",
      "_________________________________________________________________\n",
      "act2 (Activation)            (None, 10, 10, 32)        0         \n",
      "_________________________________________________________________\n",
      "pool2 (MaxPooling2D)         (None, 5, 5, 32)          0         \n",
      "_________________________________________________________________\n",
      "flatten_4 (Flatten)          (None, 800)               0         \n",
      "_________________________________________________________________\n",
      "dense_4 (Dense)              (None, 10)                8010      \n",
      "_________________________________________________________________\n",
      "activation_4 (Activation)    (None, 10)                0         \n",
      "=================================================================\n",
      "Total params: 63,402\n",
      "Trainable params: 8,010\n",
      "Non-trainable params: 55,392\n",
      "_________________________________________________________________\n"
     ]
    }
   ],
   "source": [
    "fashion_model.summary()"
   ]
  },
  {
   "cell_type": "code",
   "execution_count": null,
   "metadata": {},
   "outputs": [],
   "source": [
    "fashion_model.load_weights(\"model_weights.h5\",by_name=True)\n",
    "\n",
    "fashion_model.compile(loss='categorical_crossentropy', optimizer=opt,  metrics=['accuracy'])\n",
    "fashion_history = fashion_model.fit( train_x , train_y , batch_size= 32, epochs = 20, shuffle=True)"
   ]
  }
 ],
 "metadata": {
  "kernelspec": {
   "display_name": "Python 3",
   "language": "python",
   "name": "python3"
  },
  "language_info": {
   "codemirror_mode": {
    "name": "ipython",
    "version": 3
   },
   "file_extension": ".py",
   "mimetype": "text/x-python",
   "name": "python",
   "nbconvert_exporter": "python",
   "pygments_lexer": "ipython3",
   "version": "3.5.2"
  }
 },
 "nbformat": 4,
 "nbformat_minor": 2
}
